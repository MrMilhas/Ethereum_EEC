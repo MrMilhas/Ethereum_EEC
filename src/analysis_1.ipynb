{
 "cells": [
  {
   "cell_type": "markdown",
   "metadata": {},
   "source": [
    "# Analyzes Flashbots Transactions in the Period of Russia's Conflict with Ukraine"
   ]
  },
  {
   "cell_type": "markdown",
   "metadata": {},
   "source": [
    "## Imports:"
   ]
  },
  {
   "cell_type": "code",
   "execution_count": 26,
   "metadata": {},
   "outputs": [],
   "source": [
    "import pandas as pd\n",
    "import matplotlib.pyplot as plt\n",
    "import seaborn as sns"
   ]
  },
  {
   "cell_type": "markdown",
   "metadata": {},
   "source": [
    "-----------------------"
   ]
  },
  {
   "cell_type": "markdown",
   "metadata": {},
   "source": [
    "## Read Datasets:"
   ]
  },
  {
   "cell_type": "markdown",
   "metadata": {},
   "source": [
    "* Flashbots DataFrames (10/02 - 10/03):"
   ]
  },
  {
   "cell_type": "code",
   "execution_count": null,
   "metadata": {},
   "outputs": [],
   "source": [
    "# Week 1:\n",
    "df_flashbots_1 = pd.read_csv('../data/flashbots/flashbots_semana_1.csv')\n",
    "df_flashbots_1 = pd.DataFrame(df_flashbots_1)\n",
    "\n",
    "# Week 2:\n",
    "df_flashbots_2 = pd.read_csv('../data/flashbots/flashbots_semana_2.csv')\n",
    "df_flashbots_2 = pd.DataFrame(df_flashbots_2)\n",
    "\n",
    "# Week 3:\n",
    "df_flashbots_3 = pd.read_csv('../data/flashbots/flashbots_semana_3.csv')\n",
    "df_flashbots_3 = pd.DataFrame(df_flashbots_3)\n",
    "\n",
    "# Week 4:\n",
    "df_flashbots_4 = pd.read_csv('../data/flashbots/flashbots_semana_4.csv')\n",
    "df_flashbots_4 = pd.DataFrame(df_flashbots_4)\n",
    "\n",
    "df_flashbots_now = pd.concat([df_flashbots_1, df_flashbots_2, df_flashbots_3, df_flashbots_4])"
   ]
  },
  {
   "cell_type": "markdown",
   "metadata": {},
   "source": [
    "* Flashbots Dataframe (10/01 - 10/02):"
   ]
  },
  {
   "cell_type": "code",
   "execution_count": null,
   "metadata": {},
   "outputs": [],
   "source": [
    "df_flashbots_pre = pd.read_csv('../data/flashbots/flashbots_pre_with_date.csv')\n",
    "df_flashbots_pre = pd.DataFrame(df_flashbots_pre)\n",
    "\n",
    "df_complemento = pd.read_csv('../data/flashbots/flashbots_pre_complemento_with_date.csv')\n",
    "df_complemento = pd.DataFrame(df_complemento)\n",
    "\n",
    "df_flashbots_pre = pd.concat([df_flashbots_pre, df_complemento])"
   ]
  },
  {
   "cell_type": "markdown",
   "metadata": {},
   "source": [
    "* Etherscan DataFrames (10/02 - 10/03):"
   ]
  },
  {
   "cell_type": "code",
   "execution_count": null,
   "metadata": {},
   "outputs": [],
   "source": [
    "df_etherscan_1 = pd.read_csv('../data/etherscan/df_semana_1.csv')\n",
    "df_etherscan_1 = pd.DataFrame(df_etherscan_1)\n",
    "\n",
    "df_etherscan_2 = pd.read_csv('../data/etherscan/df_semana_2.csv')\n",
    "df_etherscan_2 = pd.DataFrame(df_etherscan_2)\n",
    "\n",
    "df_etherscan_3 = pd.read_csv('../data/etherscan/df_semana_3.csv')\n",
    "df_etherscan_3 = pd.DataFrame(df_etherscan_3)\n",
    "\n",
    "df_etherscan_4 = pd.read_csv('../data/etherscan/df_semana_4.csv')\n",
    "df_etherscan_4 = pd.DataFrame(df_etherscan_4)\n",
    "\n",
    "df_etherscan_total = pd.concat([df_etherscan_1, df_etherscan_2, df_etherscan_3, df_etherscan_4])"
   ]
  },
  {
   "cell_type": "markdown",
   "metadata": {},
   "source": [
    "----------------------------------------------------"
   ]
  },
  {
   "cell_type": "markdown",
   "metadata": {},
   "source": [
    "## Daily Transactions:"
   ]
  },
  {
   "cell_type": "markdown",
   "metadata": {},
   "source": [
    "* Collection Period (10/02 - 10/03):"
   ]
  },
  {
   "cell_type": "code",
   "execution_count": null,
   "metadata": {},
   "outputs": [],
   "source": [
    "df_count_now_transactions = df_flashbots_now.groupby(['date']).size().reset_index(name = 'count')"
   ]
  },
  {
   "cell_type": "code",
   "execution_count": null,
   "metadata": {},
   "outputs": [],
   "source": [
    "plt.plot(df_count_now_transactions['date'], df_count_now_transactions['count'])\n",
    "plt.xlabel('Date (UTC)')\n",
    "plt.xticks([x for x in range(0,30,5)])\n",
    "plt.ylabel('Number of Transactions')\n",
    "plt.axvline(14, color = 'black', linestyle = '--', label = 'Russia Invasion')\n",
    "plt.legend()\n",
    "plt.gcf().savefig('../data/grafs/pdf_ingles/number_of_transactions_now.pdf')"
   ]
  },
  {
   "cell_type": "markdown",
   "metadata": {},
   "source": [
    "* Pre-Collection Period (10/01 - 10/02):"
   ]
  },
  {
   "cell_type": "code",
   "execution_count": null,
   "metadata": {},
   "outputs": [],
   "source": [
    "df_count_pre_transactions = df_flashbots_pre.groupby(['date']).size().reset_index(name = 'count')"
   ]
  },
  {
   "cell_type": "code",
   "execution_count": null,
   "metadata": {},
   "outputs": [],
   "source": [
    "plt.plot(df_count_pre_transactions['date'], df_count_pre_transactions['count'])\n",
    "plt.xlabel('Date (UTC)')\n",
    "plt.xticks([x for x in range(0,30,5)])\n",
    "plt.ylabel('Number of transactions')\n",
    "plt.legend()\n",
    "plt.gcf().savefig('../data/grafs/flashbots_number_of_transactions_pre.jpg')"
   ]
  },
  {
   "cell_type": "markdown",
   "metadata": {},
   "source": [
    "* Pre-Collection Period + Collection (10/01 - 10/03):"
   ]
  },
  {
   "cell_type": "code",
   "execution_count": null,
   "metadata": {},
   "outputs": [],
   "source": [
    "df_count_total_tnx = pd.concat([df_count_pre_transactions, df_count_now_transactions])\n",
    "df_count_total_tnx = df_count_total_tnx.reset_index(drop=True)"
   ]
  },
  {
   "cell_type": "code",
   "execution_count": null,
   "metadata": {},
   "outputs": [],
   "source": [
    "plt.plot(df_count_total_tnx['date'], df_count_total_tnx['count'])\n",
    "plt.xlabel('Date (UTC)')\n",
    "plt.xticks([x for x in range(5,60,10)])\n",
    "plt.ylabel('Number of transactions')\n",
    "plt.axvline(31, color = 'black', linestyle = '--', label = 'Início da Coleta')\n",
    "plt.legend()\n",
    "plt.gcf().savefig('../data/grafs/flashbots_number_of_transactions_total.jpg')"
   ]
  },
  {
   "cell_type": "markdown",
   "metadata": {},
   "source": [
    "----------------------------------------"
   ]
  },
  {
   "cell_type": "markdown",
   "metadata": {},
   "source": [
    "## Daily Accounts:"
   ]
  },
  {
   "cell_type": "markdown",
   "metadata": {},
   "source": [
    "* Collection Period (10/02 - 10/03):"
   ]
  },
  {
   "cell_type": "code",
   "execution_count": null,
   "metadata": {},
   "outputs": [],
   "source": [
    "df_accounts_now_1 = pd.DataFrame({'address': df_flashbots_now['to_address']})\n",
    "df_accounts_now_2 = pd.DataFrame({'address': df_flashbots_now['eoa_address']})\n",
    "df_accounts_now = pd.concat([df_accounts_now_1, df_accounts_now_2])\n",
    "\n",
    "df_dates_now_1 = pd.DataFrame({'date': df_flashbots_now['date']})\n",
    "df_dates_now_2 = pd.DataFrame({'date': df_flashbots_now['date']})\n",
    "df_dates_now = pd.concat([df_dates_now_1, df_dates_now_2])\n",
    "\n",
    "df_accounts_now['date'] = df_dates_now['date']\n",
    "df_accounts_now_ordened = df_accounts_now.sort_values(by=['date'])\n",
    "df_accounts_now_ordened = df_accounts_now_ordened.reset_index(drop=True)\n",
    "\n",
    "df_accounts_ordened_now_without_duplicates = df_accounts_now_ordened.drop_duplicates()\n",
    "df_count_now = df_accounts_ordened_now_without_duplicates.groupby(['date']).size().reset_index(name = 'count')"
   ]
  },
  {
   "cell_type": "code",
   "execution_count": null,
   "metadata": {},
   "outputs": [],
   "source": [
    "plt.xticks([0,5,10,15,20,25,30])\n",
    "plt.plot(df_count_now['date'], df_count_now['count'])\n",
    "plt.xlabel('Date (UTC)')\n",
    "plt.ylabel('Active Accounts')\n",
    "plt.axvline(14, color = 'black', linestyle = '--', label = 'Russia Invasion')\n",
    "plt.legend()\n",
    "plt.gcf().savefig('../data/grafs/pdf_ingles/active_accounts.pdf')"
   ]
  },
  {
   "cell_type": "markdown",
   "metadata": {},
   "source": [
    "* Pre-Collection Period (10/01 - 10/02):"
   ]
  },
  {
   "cell_type": "code",
   "execution_count": null,
   "metadata": {},
   "outputs": [],
   "source": [
    "df_accounts_1 = pd.DataFrame({'address': df_flashbots_pre['eoa_address']})\n",
    "df_accounts_2 = pd.DataFrame({'address': df_flashbots_pre['to_address']})\n",
    "df_accounts = pd.concat([df_accounts_1, df_accounts_2])\n",
    "\n",
    "df_dates_1 = pd.DataFrame({'date': df_flashbots_pre['date']})\n",
    "df_dates_2 = pd.DataFrame({'date': df_flashbots_pre['date']})\n",
    "df_dates = pd.concat([df_dates_1, df_dates_2])\n",
    "\n",
    "df_accounts['date'] = df_dates['date']\n",
    "df_accounts_ordened = df_accounts.sort_values(by=['date'])\n",
    "df_accounts_ordened = df_accounts_ordened.reset_index(drop=True)\n",
    "\n",
    "df_accounts_ordened_sem_repeticoes = df_accounts_ordened.drop_duplicates()\n",
    "df_count_pre = df_accounts_ordened_sem_repeticoes.groupby(['date']).size().reset_index(name = 'count')"
   ]
  },
  {
   "cell_type": "code",
   "execution_count": null,
   "metadata": {},
   "outputs": [],
   "source": [
    "plt.xticks([0,5,10,15,20,25,30,35,40,45])\n",
    "plt.plot(df_count_pre['date'], df_count_pre['count'])\n",
    "plt.xlabel('days')\n",
    "plt.ylabel('Active accounts')\n",
    "plt.legend()\n",
    "plt.gcf().savefig('../data/grafs/flashbots_active_accounts_1_mes_antes.jpg')"
   ]
  },
  {
   "cell_type": "markdown",
   "metadata": {},
   "source": [
    "* Pre-Collection Period + Collection (10/01 - 10/03):"
   ]
  },
  {
   "cell_type": "code",
   "execution_count": null,
   "metadata": {},
   "outputs": [],
   "source": [
    "df_count_total = pd.concat([df_count_pre, df_count_now])"
   ]
  },
  {
   "cell_type": "code",
   "execution_count": null,
   "metadata": {},
   "outputs": [],
   "source": [
    "plt.xticks([0,15,25,35,45,55,65,75, 85, 95])\n",
    "plt.plot(df_count_total['date'], df_count_total['count'])\n",
    "plt.xlabel('Date (UTC)')\n",
    "plt.axvline(31, color = 'black', linestyle = '--', label = 'Início da Coleta')\n",
    "plt.ylabel('Active accounts')\n",
    "plt.legend()\n",
    "plt.gcf().savefig('../data/grafs/flashbots_active_accounts_total.jpg')"
   ]
  },
  {
   "cell_type": "markdown",
   "metadata": {},
   "source": [
    "-------------------------------------------------"
   ]
  },
  {
   "cell_type": "markdown",
   "metadata": {},
   "source": [
    "## Degree Calculation:"
   ]
  },
  {
   "cell_type": "code",
   "execution_count": null,
   "metadata": {},
   "outputs": [],
   "source": [
    "def plot_outdegree(df, week, ax):\n",
    "    df_count = df.groupby(['eoa_address']).size().reset_index(name = 'count') #Agrupa e conta ocorrências de endereços diferentes na coluna from\n",
    "    df_count.sort_values(by = 'count')\n",
    "    df_degrees = df_count.groupby(['count']).size().reset_index(name = 'count_num')\n",
    "    s = sns.regplot(data = df_degrees, x = 'count', y = 'count_num', label = 'Week  '+str(week), fit_reg = False, ax = ax)\n",
    "    s.set(xscale = 'log', yscale = 'log')\n",
    "    s.set(xlabel = 'Out-degree', ylabel = 'Number of nodes')\n",
    "\n",
    "def plot_indegree(df, week, ax):\n",
    "    df_count = df.groupby(['to_address']).size().reset_index(name = 'count') #Agrupa e conta ocorrências de endereços diferentes na coluna to\n",
    "    df_count.sort_values(by = 'count')\n",
    "    df_degrees = df_count.groupby(['count']).size().reset_index(name = 'count_num')\n",
    "    s = sns.regplot(data = df_degrees, x = 'count', y = 'count_num', label = 'Week  '+str(week), fit_reg = False, ax = ax)\n",
    "    s.set(xscale = 'log', yscale = 'log')\n",
    "    s.set(xlabel = 'In-degree', ylabel = 'Number of nodes')\n",
    "\n",
    "def plot_degree(df, week, ax): #Agrupa e conta ocorrências de endereços diferentes na coluna from e to e soma as 2\n",
    "    df_count_1 = df.groupby(['eoa_address']).size().reset_index(name = 'count') \n",
    "    df_count_2 = df.groupby(['to_address']).size().reset_index(name = 'count')\n",
    "    \n",
    "    df_degrees_1 = df_count_1.groupby(['count']).size().reset_index(name = 'count_num')\n",
    "    df_degrees_2 = df_count_2.groupby(['count']).size().reset_index(name = 'count_num')\n",
    "    df_degrees_total = pd.concat([df_degrees_1, df_degrees_2])\n",
    "    df_degrees_total = df_degrees_total.groupby(['count']).sum().reset_index()\n",
    "    s = sns.regplot(data = df_degrees_total, x = 'count', y = 'count_num', label = 'Week '+str(week), fit_reg = False, ax = ax)\n",
    "    s.set(xscale = 'log', yscale = 'log')\n",
    "    s.set(xlabel = 'Degree', ylabel = 'Number of nodes')"
   ]
  },
  {
   "cell_type": "markdown",
   "metadata": {},
   "source": [
    "* Degree:"
   ]
  },
  {
   "cell_type": "code",
   "execution_count": null,
   "metadata": {},
   "outputs": [],
   "source": [
    "fig, ax = plt.subplots(nrows=2, ncols=2)\n",
    "\n",
    "plot_degree(df_flashbots_1, 1, ax)\n",
    "plot_degree(df_flashbots_2, 2, ax)\n",
    "plot_degree(df_flashbots_3, 3, ax)\n",
    "plot_degree(df_flashbots_4, 4, ax)\n",
    "\n",
    "plt.legend()\n",
    "fig.savefig('../data/grafs/pdf_ingles/degree.pdf')"
   ]
  },
  {
   "cell_type": "markdown",
   "metadata": {},
   "source": [
    "* In-Degree x Out-Degree:"
   ]
  },
  {
   "cell_type": "code",
   "execution_count": null,
   "metadata": {},
   "outputs": [],
   "source": [
    "def plot_outdegree(df, week, ax, fitreg):\n",
    "    df_count = df.groupby(['eoa_address']).size().reset_index(name = 'count') #Agrupa e conta ocorrências de endereços diferentes na coluna from\n",
    "    df_count.sort_values(by = 'count')\n",
    "    df_degrees = df_count.groupby(['count']).size().reset_index(name = 'count_num')\n",
    "    s = sns.regplot(data = df_degrees, x = 'count', y = 'count_num', label = 'Semana '+str(week), fit_reg = fitreg, ax = ax)\n",
    "    s.set(xscale = 'log', yscale = 'log')\n",
    "    s.set(xlabel = 'Out-Degree', ylabel = 'Number of Nodes')\n",
    "    return s\n",
    "\n",
    "def plot_indegree(df, week, ax, fitreg):\n",
    "    df_count = df.groupby(['to_address']).size().reset_index(name = 'count') #Agrupa e conta ocorrências de endereços diferentes na coluna to\n",
    "    df_count.sort_values(by = 'count')\n",
    "    df_degrees = df_count.groupby(['count']).size().reset_index(name = 'count_num')\n",
    "    s = sns.regplot(data = df_degrees, x = 'count', y = 'count_num', label = 'Semana '+str(week), fit_reg = fitreg, ax = ax)\n",
    "    s.set(xscale = 'log', yscale = 'log')\n",
    "    s.set(xlabel = 'In-Degree', ylabel = 'Number of Nodes')\n",
    "    return s\n",
    "\n",
    "def plot_degree(df, week, ax, fitreg): #Agrupa e conta ocorrências de endereços diferentes na coluna from e to e soma as 2\n",
    "    df_count_1 = df.groupby(['eoa_address']).size().reset_index(name = 'count') \n",
    "    df_count_2 = df.groupby(['to_address']).size().reset_index(name = 'count')\n",
    "    \n",
    "    df_degrees_1 = df_count_1.groupby(['count']).size().reset_index(name = 'count_num')\n",
    "    df_degrees_2 = df_count_2.groupby(['count']).size().reset_index(name = 'count_num')\n",
    "    df_degrees_total = pd.concat([df_degrees_1, df_degrees_2])\n",
    "    df_degrees_total = df_degrees_total.groupby(['count']).sum().reset_index()\n",
    "    s = sns.regplot(data = df_degrees_total, x = 'count', y = 'count_num', label = 'Semana '+str(week), fit_reg = fitreg, ax = ax)\n",
    "    s.set(xscale = 'log', yscale = 'log')\n",
    "    s.set(xlabel = 'Grau', ylabel = 'Número de nós')\n",
    "    return s"
   ]
  },
  {
   "cell_type": "code",
   "execution_count": null,
   "metadata": {},
   "outputs": [],
   "source": [
    "figure, axis = plt.subplots(2, 2, sharex = 'col', sharey = 'row',  figsize = (10,6))\n",
    "\n",
    "df_1 = df_flashbots_1\n",
    "plot_indegree(df_1, 1, axis[0,0], True).set(label = 'In-Degree') #acho que esses .set daqui n tão fazendo nada\n",
    "plot_outdegree(df_1, 1, axis[0,0], True).set(label ='Out-Degree')\n",
    "axis[0,0].set_xlabel('Degree (Week 1)')\n",
    "axis[0,0].legend(['In-degree','Out-degree'])\n",
    "del df_1\n",
    "\n",
    "df_2 = df_flashbots_2\n",
    "plot_indegree(df_2, 1, axis[0,1], True).set(label = 'In-Degree')\n",
    "plot_outdegree(df_2, 1, axis[0,1], True).set(label ='Out-Degree')\n",
    "axis[0,1].set_xlabel('Degree (Week 2)')\n",
    "axis[0,1].legend(['In-degree','Out-degree'])\n",
    "del df_2\n",
    "\n",
    "df_3 = df_flashbots_3\n",
    "plot_indegree(df_3, 1, axis[1,0], True).set(label = 'In-Degree')\n",
    "plot_outdegree(df_3, 1, axis[1,0], True).set(label ='Out-Degree')\n",
    "axis[1,0].set_xlabel('Degree (Week 3)')\n",
    "axis[1,0].legend(['In-degree','Out-degree'])\n",
    "del df_3\n",
    "\n",
    "df_4 = df_flashbots_4\n",
    "plot_indegree(df_4, 1, axis[1,1], True).set(label = 'In-Degree')\n",
    "plot_outdegree(df_4, 1, axis[1,1], True).set(label ='Out-Degree')\n",
    "axis[1,1].set_xlabel('Degree (Week 4)')\n",
    "axis[1,1].legend(['In-degree','Out-degree'])\n",
    "del df_4\n",
    "\n",
    "plt.show()\n",
    "figure.savefig('../data/grafs/pdf_ingles/degree_week.pdf')"
   ]
  },
  {
   "cell_type": "markdown",
   "metadata": {},
   "source": [
    "* In-Degree:"
   ]
  },
  {
   "cell_type": "code",
   "execution_count": null,
   "metadata": {},
   "outputs": [],
   "source": [
    "fig, ax = plt.subplots()\n",
    "\n",
    "plot_indegree(df_flashbots_1, 1, ax)\n",
    "plot_indegree(df_flashbots_2, 2, ax)\n",
    "plot_indegree(df_flashbots_3, 3, ax)\n",
    "plot_indegree(df_flashbots_4, 4, ax)\n",
    "\n",
    "plt.legend()\n",
    "fig.savefig('../data/grafs/pdf_ingles/flashbots_indegree.pdf')"
   ]
  },
  {
   "cell_type": "markdown",
   "metadata": {},
   "source": [
    "* Out-Degree:"
   ]
  },
  {
   "cell_type": "code",
   "execution_count": null,
   "metadata": {},
   "outputs": [],
   "source": [
    "fig, ax = plt.subplots()\n",
    "\n",
    "plot_outdegree(df_flashbots_1, 1, ax)\n",
    "plot_outdegree(df_flashbots_2, 2, ax)\n",
    "plot_outdegree(df_flashbots_3, 3, ax)\n",
    "plot_outdegree(df_flashbots_4, 4, ax)\n",
    "\n",
    "plt.legend()\n",
    "fig.savefig('../data/grafs/pdf_ingles/flashbots_outdegree.pdf')"
   ]
  },
  {
   "cell_type": "markdown",
   "metadata": {},
   "source": [
    "------------------------------------------------------"
   ]
  },
  {
   "cell_type": "markdown",
   "metadata": {},
   "source": [
    "## Account Analysis:"
   ]
  },
  {
   "cell_type": "markdown",
   "metadata": {},
   "source": [
    "* New Accounts:"
   ]
  },
  {
   "cell_type": "code",
   "execution_count": null,
   "metadata": {},
   "outputs": [],
   "source": [
    "df_accounts_1 = pd.DataFrame({'address': df_flashbots_pre['eoa_address']})\n",
    "df_accounts_2 = pd.DataFrame({'address': df_flashbots_pre['to_address']})\n",
    "df_accounts = pd.concat([df_accounts_1, df_accounts_2])\n",
    "\n",
    "df_dates_1 = pd.DataFrame({'date': df_flashbots_pre['date']})\n",
    "df_dates_2 = pd.DataFrame({'date': df_flashbots_pre['date']})\n",
    "df_dates = pd.concat([df_dates_1, df_dates_2])\n",
    "\n",
    "df_accounts['date'] = df_dates['date']\n",
    "df_accounts_ordened = df_accounts.sort_values(by=['date'])\n",
    "df_accounts_ordened = df_accounts_ordened.reset_index(drop=True)\n",
    "\n",
    "df_accounts_ordened_sem_repeticoes = df_accounts_ordened.drop_duplicates(keep='first', inplace=False, subset=['address'])"
   ]
  },
  {
   "cell_type": "code",
   "execution_count": null,
   "metadata": {},
   "outputs": [],
   "source": [
    "df_flashbots_total = pd.concat([df_flashbots_1, df_flashbots_2, df_flashbots_3, df_flashbots_4])\n",
    "\n",
    "df_accounts_now_1 = pd.DataFrame({'address': df_flashbots_total['to_address']})\n",
    "df_accounts_now_2 = pd.DataFrame({'address': df_flashbots_total['eoa_address']})\n",
    "df_accounts_now = pd.concat([df_accounts_now_1, df_accounts_now_2])\n",
    "\n",
    "df_dates_now_1 = pd.DataFrame({'date': df_flashbots_total['date']})\n",
    "df_dates_now_2 = pd.DataFrame({'date': df_flashbots_total['date']})\n",
    "df_dates_now = pd.concat([df_dates_now_1, df_dates_now_2])\n",
    "\n",
    "df_accounts_now['date'] = df_dates_now['date']\n",
    "df_accounts_now_ordened = df_accounts_now.sort_values(by=['date'])\n",
    "df_accounts_now_ordened = df_accounts_now_ordened.reset_index(drop=True)\n",
    "\n",
    "df_accounts_ordened_now_without_duplicates = df_accounts_now_ordened.drop_duplicates(keep='first', inplace=False, subset=['address'])\n",
    "df_accounts_ordened_now_without_duplicates = df_accounts_ordened_now_without_duplicates.reset_index(drop=True)"
   ]
  },
  {
   "cell_type": "code",
   "execution_count": null,
   "metadata": {},
   "outputs": [],
   "source": [
    "df_aux = df_accounts_ordened_now_without_duplicates['address'].isin(df_accounts_ordened_sem_repeticoes['address'])\n",
    "df_new_accounts = df_accounts_ordened_now_without_duplicates[~df_accounts_ordened_now_without_duplicates['address'].isin(df_accounts_ordened_sem_repeticoes['address'])]"
   ]
  },
  {
   "cell_type": "code",
   "execution_count": null,
   "metadata": {},
   "outputs": [],
   "source": [
    "df_count_new = df_new_accounts.groupby(['date']).size().reset_index(name = 'count')"
   ]
  },
  {
   "cell_type": "markdown",
   "metadata": {},
   "source": [
    "* Active Accounts vs New Accounts:"
   ]
  },
  {
   "cell_type": "code",
   "execution_count": null,
   "metadata": {},
   "outputs": [],
   "source": [
    "plt.xticks([0,5,10,15,20,25,30,35,40,45])\n",
    "plt.plot(df_count_now['date'], df_count_now['count'], label='Active Accounts')\n",
    "plt.plot(df_count_new['date'], df_count_new['count'], label='New Accounts')\n",
    "plt.xlabel('Date (UTC)')\n",
    "plt.ylabel('Number of Accounts')\n",
    "plt.axvline(14, color = 'black', linestyle = '--', label = 'Russia Invasion')\n",
    "plt.legend()\n",
    "plt.gcf().savefig('../data/grafs/pdf_ingles/active_vs_new_accounts_correct.pdf')"
   ]
  },
  {
   "cell_type": "markdown",
   "metadata": {},
   "source": [
    "-------------------------------------------------------------------"
   ]
  }
 ],
 "metadata": {
  "kernelspec": {
   "display_name": "Python 3",
   "language": "python",
   "name": "python3"
  },
  "language_info": {
   "codemirror_mode": {
    "name": "ipython",
    "version": 3
   },
   "file_extension": ".py",
   "mimetype": "text/x-python",
   "name": "python",
   "nbconvert_exporter": "python",
   "pygments_lexer": "ipython3",
   "version": "3.11.4"
  },
  "orig_nbformat": 4
 },
 "nbformat": 4,
 "nbformat_minor": 2
}
