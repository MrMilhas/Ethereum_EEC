{
 "cells": [
  {
   "cell_type": "markdown",
   "metadata": {},
   "source": [
    "# Analysis of Flashbots Accounts Ranking in the Period of Russia's Conflict with Ukraine"
   ]
  },
  {
   "cell_type": "markdown",
   "metadata": {},
   "source": [
    "## Imports:"
   ]
  },
  {
   "cell_type": "code",
   "execution_count": null,
   "metadata": {},
   "outputs": [],
   "source": [
    "from pre_process import *\n",
    "from ranking_acc import *\n",
    "import warnings"
   ]
  },
  {
   "cell_type": "markdown",
   "metadata": {},
   "source": [
    "--------------------------"
   ]
  },
  {
   "cell_type": "markdown",
   "metadata": {},
   "source": [
    "## Pré Process Datasets:"
   ]
  },
  {
   "cell_type": "code",
   "execution_count": null,
   "metadata": {},
   "outputs": [],
   "source": [
    "Create_IN_OUT_Dataset()\n",
    "Column_Format()\n",
    "Quarter_Format()"
   ]
  },
  {
   "cell_type": "markdown",
   "metadata": {},
   "source": [
    "------------------------"
   ]
  },
  {
   "cell_type": "markdown",
   "metadata": {},
   "source": [
    "## Read Datasets:"
   ]
  },
  {
   "cell_type": "code",
   "execution_count": null,
   "metadata": {},
   "outputs": [],
   "source": [
    "df_quarter = pd.read_csv('../data/flashbots/accounts/acc_quarter.csv')\n",
    "df_quarter_to = pd.read_csv('../data/flashbots/accounts/acc_quarter_to.csv')\n",
    "df_quarter_from = pd.read_csv('../data/flashbots/accounts/acc_quarter_from.csv')\n",
    "\n",
    "df_quarter.set_index('address', inplace=True)\n",
    "df_quarter_to.set_index('address', inplace=True)\n",
    "df_quarter_from.set_index('address', inplace=True)"
   ]
  },
  {
   "cell_type": "markdown",
   "metadata": {},
   "source": [
    "---------------------------"
   ]
  },
  {
   "cell_type": "markdown",
   "metadata": {},
   "source": [
    "## Get Asc and Desc Datasets:"
   ]
  },
  {
   "cell_type": "code",
   "execution_count": null,
   "metadata": {},
   "outputs": [],
   "source": [
    "asc_df = get_asc_acc(df_quarter, max_std=0.01, max_total_val=4)\n",
    "asc_df = asc_df[~asc_df.index.duplicated(keep='first')]\n",
    "asc_df.shape[0]\n",
    "\n",
    "desc_df = get_desc_acc(df_quarter, max_std=0.6, min_total_val=0.002)\n",
    "desc_df = desc_df[~desc_df.index.duplicated(keep='first')]\n",
    "desc_df.shape[0]"
   ]
  },
  {
   "cell_type": "markdown",
   "metadata": {},
   "source": [
    "--------------------"
   ]
  },
  {
   "cell_type": "markdown",
   "metadata": {},
   "source": [
    "## Plotting Graphs:"
   ]
  },
  {
   "cell_type": "markdown",
   "metadata": {},
   "source": [
    "* Evolution graphs:"
   ]
  },
  {
   "cell_type": "code",
   "execution_count": null,
   "metadata": {},
   "outputs": [],
   "source": [
    "warnings.simplefilter('ignore')\n",
    "for i in range(9):\n",
    "    plot_account(asc_df, df_quarter_from, df_quarter_to, asc_df.iloc[i].name)\n",
    "    plt.clf()"
   ]
  },
  {
   "cell_type": "code",
   "execution_count": null,
   "metadata": {},
   "outputs": [],
   "source": [
    "warnings.simplefilter('ignore')\n",
    "for i in range(9):\n",
    "    plot_account(desc_df, df_quarter_from, df_quarter_to, desc_df.iloc[i].name)\n",
    "    plt.clf()"
   ]
  },
  {
   "cell_type": "markdown",
   "metadata": {},
   "source": [
    "* Bar grahps:"
   ]
  },
  {
   "cell_type": "code",
   "execution_count": null,
   "metadata": {},
   "outputs": [],
   "source": [
    "plot_ascdef_bars(asc_df, desc_df)"
   ]
  },
  {
   "cell_type": "code",
   "execution_count": null,
   "metadata": {},
   "outputs": [],
   "source": [
    "plot_liers_ascdef(asc_df, desc_df)"
   ]
  }
 ],
 "metadata": {
  "kernelspec": {
   "display_name": "Python 3",
   "language": "python",
   "name": "python3"
  },
  "language_info": {
   "name": "python",
   "version": "3.11.4"
  }
 },
 "nbformat": 4,
 "nbformat_minor": 2
}
